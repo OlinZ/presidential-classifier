{
 "cells": [
  {
   "cell_type": "markdown",
   "metadata": {},
   "source": [
    "# Political Twitter Tweet Trends\n",
    "\n",
    "Andrew Chai, Nicholas Saldana, Olin Zhou\n"
   ]
  },
  {
   "cell_type": "markdown",
   "metadata": {
    "id": "JUbW_J5Od1Ga"
   },
   "source": [
    "# Introduction\n",
    "With the growing need for an online presence in politics, the accounts of those running for public office become more and more important. Here we are looking at the defining characteristics of the two presidential candidates for the 2020 election.\n",
    "\n",
    "\n",
    "The goal of this analysis is to \n",
    "\n",
    "1.   look at how each candidate are appealing to voters\n",
    "2.   the key issues each candidate address\n",
    "3.   general statistics of each candidate’s Twitter activity\n",
    "\n"
   ]
  },
  {
   "cell_type": "code",
   "execution_count": 2,
   "metadata": {},
   "outputs": [
    {
     "name": "stderr",
     "output_type": "stream",
     "text": [
      "[nltk_data] Downloading package stopwords to\n",
      "[nltk_data]     C:\\Users\\Olin\\AppData\\Roaming\\nltk_data...\n",
      "[nltk_data]   Package stopwords is already up-to-date!\n"
     ]
    }
   ],
   "source": [
    "#import stuff\n",
    "import pandas  as pd\n",
    "from PIL import Image\n",
    "import numpy as np\n",
    "import matplotlib.pyplot as plt\n",
    "from wordcloud import WordCloud, STOPWORDS\n",
    "import spacy \n",
    "from textstat.textstat import textstatistics, legacy_round, textstat\n",
    "from collections import Counter\n",
    "import nltk\n",
    "from nltk.corpus import stopwords\n",
    "nltk.download('stopwords')\n",
    "\n",
    "from sklearn.model_selection import train_test_split\n",
    "from sklearn.feature_extraction.text import CountVectorizer\n",
    "from sklearn.feature_extraction import text\n",
    "from sklearn.naive_bayes import MultinomialNB\n",
    "from sklearn.metrics import accuracy_score, precision_score, recall_score\n",
    "from sklearn.neighbors import KNeighborsClassifier\n",
    "\n",
    "from sklearn.metrics import confusion_matrix\n",
    "from sklearn.ensemble import RandomForestClassifier\n",
    "import matplotlib.pyplot as plt\n",
    "import seaborn as sns"
   ]
  },
  {
   "cell_type": "markdown",
   "metadata": {
    "id": "RgicuOtTfMdm"
   },
   "source": [
    "# Data\n",
    "Our Tweets dataset is from Kaggle.\n",
    "\n",
    "*   https://www.kaggle.com/rohanrao/joe-biden-tweets (Biden Tweets)\n",
    "*   https://www.kaggle.com/austinreese/trump-tweets (Trump Tweets)\n",
    "\n",
    "Here we are cleaning the data by removing some of the stopwords. Stop words include words in the english stopwords library and some of the ones we found in the Tweets.\n",
    "\n",
    "Some problems with our dataset we fixed and considered are\n",
    "\n",
    "*   Uneven dataset with Trump having ~50,000 Tweets while Biden only having ~5,000 tweets\n",
    "*   Uneven dataset leads to difficulty evaluating models\n",
    "*   Inconsistent time ranges between the two candidates\n",
    "\n",
    "We will talk about how we fixed these probems throughout this notebook.\n",
    "\n",
    "\n"
   ]
  },
  {
   "cell_type": "code",
   "execution_count": 3,
   "metadata": {
    "id": "shZo50UledBV"
   },
   "outputs": [],
   "source": [
    "# read data\n",
    "joe_data = pd.read_csv('data/JoeBidenTweets.csv')\n",
    "donald_data = pd.read_csv('data/realdonaldtrump.csv')\n",
    "\n",
    "joe_tweets = joe_data['tweet']\n",
    "donald_tweets = donald_data['content']"
   ]
  },
  {
   "cell_type": "code",
   "execution_count": 4,
   "metadata": {
    "colab": {
     "base_uri": "https://localhost:8080/"
    },
    "id": "Zn5FDM_lrnSR",
    "outputId": "bf9894a8-847c-4bdb-a4fe-bfede89fc0af"
   },
   "outputs": [
    {
     "name": "stdout",
     "output_type": "stream",
     "text": [
      "problems: \n",
      "2\n",
      "98\n",
      "today: \n",
      "199\n",
      "572\n",
      "protecting: \n",
      "17\n",
      "49\n",
      "seniors: \n",
      "5\n",
      "6\n",
      "important: \n",
      "80\n",
      "265\n",
      "healthcare: \n",
      "2\n",
      "111\n",
      "people: \n",
      "407\n",
      "2114\n",
      "point: \n",
      "11\n",
      "148\n",
      "trump: \n",
      "None\n",
      "None\n",
      "thanks: \n",
      "38\n",
      "862\n",
      "mexico: \n",
      "6\n",
      "212\n",
      "polls: \n",
      "12\n",
      "170\n",
      "illegal: \n",
      "None\n",
      "306\n",
      "closing: \n",
      "5\n",
      "34\n",
      "immigration: \n",
      "25\n",
      "218\n",
      "family: \n",
      "77\n",
      "196\n",
      "clinton: \n",
      "5\n",
      "390\n",
      "biden: \n",
      "443\n",
      "77\n"
     ]
    }
   ],
   "source": [
    "cachedStopWords = stopwords.words('english')\n",
    "cachedStopWords.append('@')\n",
    "cachedStopWords.append('\"')\n",
    "cachedStopWords.append('i')\n",
    "cachedStopWords.append('realdonaldtrump')\n",
    "cachedStopWords.append('#')\n",
    "cachedStopWords.append('&')\n",
    "cachedStopWords.append('the')\n",
    "cachedStopWords.append('…')\n",
    "cachedStopWords.append('-')\n",
    "cachedStopWords.append('—')\n",
    "cachedStopWords.append('it’s')\n",
    "cachedStopWords.append('get')\n",
    "cachedStopWords.append('trump')\n",
    "cachedStopWords.append('make')\n",
    "cachedStopWords.append('president')\n",
    "cachedStopWords.append('.')\n",
    "\n",
    "\n",
    "top_joe_words = Counter([word for word in \" \".join(joe_tweets).lower().split() if word not in cachedStopWords])\n",
    "top_donald_words = Counter([word for word in \" \".join(donald_tweets).lower().split() if word not in cachedStopWords])\n",
    "\n",
    "features = 'problems, today, protecting, seniors, important, healthcare, people, point, trump, thanks, mexico, polls, illegal, closing, immigration, family, clinton, biden'\n",
    "\n",
    "for feature in features.split(', '):\n",
    "  print(feature + \": \")\n",
    "  print(top_joe_words.get(feature))\n",
    "  print(top_donald_words.get(feature))"
   ]
  },
  {
   "cell_type": "markdown",
   "metadata": {
    "id": "o1zzIR_ggVJz"
   },
   "source": [
    "# Preliminary Visualization\n",
    "\n",
    "Here we want to take a look at some of the general statistics each candidate has in regards to their Tweets.\n",
    "\n",
    "These statistics are \n",
    "\n",
    "*   Tweet date ranges\n",
    "*   General word choices (wordcloud)\n",
    "*   Word count per Tweet\n",
    "*   Popularity (retweets and likes per Tweet)\n",
    "*   Readability (Dale-Chall readability score)\n",
    "\n"
   ]
  },
  {
   "cell_type": "markdown",
   "metadata": {
    "id": "bWwNwtESg_6f"
   },
   "source": [
    "Joe Biden Tweet dates"
   ]
  },
  {
   "cell_type": "code",
   "execution_count": 5,
   "metadata": {
    "colab": {
     "base_uri": "https://localhost:8080/",
     "height": 329
    },
    "id": "junxwuxLiBlE",
    "outputId": "f0e5b86c-759a-45ce-e8cf-fb778c4bb332"
   },
   "outputs": [
    {
     "data": {
      "text/plain": [
       "<matplotlib.axes._subplots.AxesSubplot at 0x2043ab2e9d0>"
      ]
     },
     "execution_count": 5,
     "metadata": {},
     "output_type": "execute_result"
    },
    {
     "data": {
      "image/png": "[encoded data removed]",
      "text/plain": [
       "<Figure size 432x288 with 1 Axes>"
      ]
     },
     "metadata": {
      "needs_background": "light"
     },
     "output_type": "display_data"
    }
   ],
   "source": [
    "# joe dates\n",
    "\n",
    "joe_dates = joe_data['timestamp']\n",
    "joe_dates = joe_dates.astype(\"datetime64\")\n",
    "\n",
    "joe_dates.groupby([joe_dates.dt.year]).count().plot(kind=\"bar\", title='Biden Tweet Count')\n"
   ]
  },
  {
   "cell_type": "markdown",
   "metadata": {
    "id": "WNfTMhgThDAd"
   },
   "source": [
    "Donald Trump Tweet dates"
   ]
  },
  {
   "cell_type": "code",
   "execution_count": 6,
   "metadata": {
    "colab": {
     "base_uri": "https://localhost:8080/",
     "height": 329
    },
    "id": "Y8j6Hglfi_zK",
    "outputId": "264b1245-bb9b-42b6-b75e-6dcbfd605842"
   },
   "outputs": [
    {
     "data": {
      "text/plain": [
       "<matplotlib.axes._subplots.AxesSubplot at 0x2043b1edd30>"
      ]
     },
     "execution_count": 6,
     "metadata": {},
     "output_type": "execute_result"
    },
    {
     "data": {
      "image/png": "[encoded data removed]",
      "text/plain": [
       "<Figure size 432x288 with 1 Axes>"
      ]
     },
     "metadata": {
      "needs_background": "light"
     },
     "output_type": "display_data"
    }
   ],
   "source": [
    "# donald dates\n",
    "\n",
    "donald_dates = donald_data['date']\n",
    "donald_dates = donald_dates.astype(\"datetime64\")\n",
    "\n",
    "donald_dates.groupby([donald_dates.dt.year]).count().plot(kind=\"bar\", title='Trump Tweet Count')\n"
   ]
  },
  {
   "cell_type": "markdown",
   "metadata": {
    "id": "Yx4YOWc7hGpL"
   },
   "source": [
    "Joe Biden wordcloud"
   ]
  },
  {
   "cell_type": "code",
   "execution_count": 9,
   "metadata": {
    "colab": {
     "background_save": true
    },
    "id": "fJSz-Tg8g31s",
    "outputId": "bc89319f-2da6-4d24-8852-0bf4702347a0"
   },
   "outputs": [
    {
     "data": {
      "text/plain": [
       "<wordcloud.wordcloud.WordCloud at 0x2043eb34df0>"
      ]
     },
     "execution_count": 9,
     "metadata": {},
     "output_type": "execute_result"
    }
   ],
   "source": [
    "# word cloud\n",
    "\n",
    "# create mask\n",
    "joe_mask = np.array(Image.open('data/wordcloud/joeshape.jpg'))\n",
    "\n",
    "morestopwords = set(STOPWORDS)\n",
    "morestopwords.add('https')\n",
    "morestopwords.add('com')\n",
    "morestopwords.add('html')\n",
    "morestopwords.add('re')\n",
    "morestopwords.add('realDonaldTrump')\n",
    "morestopwords.add('bit')\n",
    "morestopwords.add('ly')\n",
    "morestopwords.add('s')\n",
    "morestopwords.add('t')\n",
    "morestopwords.add('pic')\n",
    "morestopwords.add('twitter')\n",
    "\n",
    "stopwords = text.ENGLISH_STOP_WORDS.union(morestopwords)\n",
    "\n",
    "def blue_color_func(word, font_size, position,orientation,random_state=None, **kwargs):\n",
    "    return(\"hsl(230,100%%, %d%%)\" % np.random.randint(49,51))\n",
    "\n",
    "wc = WordCloud(width=800, height=400, background_color=\"white\", max_words=1000, mask=joe_mask, stopwords=stopwords)\n",
    "wc.generate(' '.join(joe_tweets))\n",
    "\n",
    "wc.recolor(color_func = blue_color_func)\n",
    "\n",
    "wc.to_file('images/joecloud.png')\n",
    "\n",
    "# plt.figure(figsize=(8,6), dpi=2000)\n",
    "# plt.imsave('images/joecloud.png', wc, interpolation='bilinear')\n",
    "# plt.axis(\"off\")\n",
    "\n"
   ]
  },
  {
   "cell_type": "markdown",
   "metadata": {
    "id": "9y90DV5vhKC4"
   },
   "source": [
    "Donald Trump wordcloud"
   ]
  },
  {
   "cell_type": "code",
   "execution_count": 11,
   "metadata": {
    "colab": {
     "background_save": true
    },
    "id": "Kb4TraTroWNJ"
   },
   "outputs": [
    {
     "data": {
      "text/plain": [
       "<wordcloud.wordcloud.WordCloud at 0x20422aa3a60>"
      ]
     },
     "execution_count": 11,
     "metadata": {},
     "output_type": "execute_result"
    }
   ],
   "source": [
    "# word cloud\n",
    "\n",
    "# create mask\n",
    "trump_mask = np.array(Image.open('data/wordcloud/trumpshape.jpg'))\n",
    "\n",
    "def red_color_func(word, font_size, position,orientation,random_state=None, **kwargs):\n",
    "    return(\"hsl(0,100%%, %d%%)\" % np.random.randint(49,51))\n",
    "\n",
    "wc = WordCloud(width=800, height=400, background_color=\"white\", max_words=1000, mask=trump_mask, stopwords=stopwords)\n",
    "wc.generate(' '.join(donald_tweets))\n",
    "\n",
    "wc.recolor(color_func = red_color_func)\n",
    "\n",
    "wc.to_file('images/donaldcloud.png')\n"
   ]
  },
  {
   "cell_type": "markdown",
   "metadata": {
    "id": "zT_fXRSPhNIv"
   },
   "source": [
    "Word count for each candidate"
   ]
  },
  {
   "cell_type": "code",
   "execution_count": 12,
   "metadata": {
    "colab": {
     "background_save": true
    },
    "id": "nv7TQLwFsNr6"
   },
   "outputs": [
    {
     "name": "stdout",
     "output_type": "stream",
     "text": [
      "Average Joe word count: 30.075821398483573\n",
      "Average Donald word count: 20.76280217752353\n"
     ]
    },
    {
     "data": {
      "image/png": "[encoded data removed]",
      "text/plain": [
       "<Figure size 432x288 with 1 Axes>"
      ]
     },
     "metadata": {
      "needs_background": "light"
     },
     "output_type": "display_data"
    }
   ],
   "source": [
    "# word count\n",
    "\n",
    "joe_counts = []\n",
    "for tweet in joe_tweets:\n",
    "  word_count = len(tweet.split())\n",
    "  joe_counts.append(word_count)\n",
    "\n",
    "print('Average Joe word count: ' + str(sum(joe_counts) / len(joe_counts)))\n",
    "\n",
    "donald_counts = []\n",
    "for tweet in donald_tweets:\n",
    "  word_count = len(tweet.split())\n",
    "  donald_counts.append(word_count)\n",
    "\n",
    "print('Average Donald word count: ' + str(sum(donald_counts) / len(donald_counts)))\n",
    "\n",
    "word_counts = []\n",
    "word_counts.append(joe_counts)\n",
    "word_counts.append(donald_counts)\n",
    "\n",
    "plt.boxplot(word_counts, showfliers=False)\n",
    "plt.title('Comparing Joe\\'s and Donald\\'s Tweets Word Length')\n",
    "plt.xticks([1, 2], ['Joe', 'Donald'])\n",
    "plt.show()"
   ]
  },
  {
   "cell_type": "markdown",
   "metadata": {
    "id": "7TaA5YR-hPle"
   },
   "source": [
    "Retweets and likes for each candidate"
   ]
  },
  {
   "cell_type": "code",
   "execution_count": 13,
   "metadata": {
    "colab": {
     "background_save": true
    },
    "id": "6_D3Vrb9utpL"
   },
   "outputs": [
    {
     "data": {
      "image/png": "[encoded data removed]",
      "text/plain": [
       "<Figure size 432x288 with 2 Axes>"
      ]
     },
     "metadata": {
      "needs_background": "light"
     },
     "output_type": "display_data"
    }
   ],
   "source": [
    "# popularity\n",
    "\n",
    "joe_retweets = joe_data['retweets']\n",
    "joe_likes = joe_data['likes']\n",
    "\n",
    "donald_retweets = donald_data['retweets']\n",
    "donald_likes = donald_data['favorites']\n",
    "\n",
    "retweets_data = []\n",
    "retweets_data.append(joe_retweets)\n",
    "retweets_data.append(donald_retweets)\n",
    "\n",
    "likes_data = []\n",
    "likes_data.append(joe_likes)\n",
    "likes_data.append(donald_likes)\n",
    "\n",
    "fig, (ax1, ax2) = plt.subplots(1, 2)\n",
    "fig.suptitle('Comparing Popularity')\n",
    "\n",
    "ax1.boxplot(retweets_data, showfliers=False)\n",
    "ax1.set_title('Retweets')\n",
    "ax1.set_xticklabels(['Joe', 'Donald'])\n",
    "\n",
    "ax2.set_title('Likes')\n",
    "ax2.set_xticklabels(['Joe', 'Donald'])\n",
    "ax2.boxplot(likes_data, showfliers=False)\n",
    "\n",
    "plt.subplots_adjust(wspace=0.5)\n",
    "\n",
    "plt.show()"
   ]
  },
  {
   "cell_type": "markdown",
   "metadata": {
    "id": "TgoAEuBahSdT"
   },
   "source": [
    "#Readability for each candidate\n",
    "\n",
    "We evalueated each tweet using the Flesch-Kincaid readability score, and took the average score for all of each candidate's tweets.  The higher the score, the easier their tweets are to read.\n",
    "\n",
    "\n",
    "\n",
    "100.0–90.0\t---\tVery easy to read. Easily understood by an average 11-year-old student.\n",
    "\n",
    "90.0–80.0\t-----\tEasy to read. Conversational English for consumers.\n",
    "\n",
    "80.0–70.0\t-----\tFairly easy to read.\n",
    "\n",
    "70.0–60.0\t-----\tPlain English. Easily understood by 13- to 15-year-old students.\n",
    "\n",
    "60.0–50.0\t-----\tFairly difficult to read.\n",
    "\n",
    "50.0–30.0\t-----\tDifficult to read.\n",
    "\n",
    "30.0–10.0\t-----\tVery difficult to read."
   ]
  },
  {
   "cell_type": "code",
   "execution_count": 14,
   "metadata": {
    "colab": {
     "base_uri": "https://localhost:8080/"
    },
    "id": "UdYBmnygYOTE",
    "outputId": "b7daef5b-42e0-44fb-ded5-b144aa2944da"
   },
   "outputs": [
    {
     "name": "stdout",
     "output_type": "stream",
     "text": [
      "Joe Biden average readability score:  59.564763268744834 \n",
      "\n",
      "Donald Trump average readability score:  36.39489435320036\n"
     ]
    }
   ],
   "source": [
    "# readability\n",
    "\n",
    "joegrade = joe_tweets.apply(textstat.flesch_reading_ease)\n",
    "grade_sum = 0\n",
    "for tweetgrade in joegrade:\n",
    "    grade_sum = grade_sum + tweetgrade\n",
    "#print(grade_sum)\n",
    "joereadinggrade = grade_sum / len(joegrade)\n",
    "print(\"Joe Biden average readability score: \",joereadinggrade,\"\\n\")\n",
    "\n",
    "donaldgrade = donald_tweets.apply(textstat.flesch_reading_ease)\n",
    "grade_sum = 0\n",
    "for tweetgrade in donaldgrade:\n",
    "    grade_sum = grade_sum + tweetgrade\n",
    "#print(grade_sum)\n",
    "donaldreadinggrade = grade_sum / len(donaldgrade)\n",
    "print(\"Donald Trump average readability score: \",donaldreadinggrade)"
   ]
  },
  {
   "cell_type": "markdown",
   "metadata": {
    "id": "0f1V5azPhXHY"
   },
   "source": [
    "# Model Selection\n",
    "\n",
    "We used and compared three different models for classifying the Tweets\n",
    "\n",
    "1.   Naive Bayes\n",
    "2.   Random Forest\n",
    "3.   K Nearest Neighbors\n",
    "\n",
    "We wanted to explore the key differences in these models and pick out the best one using the metrics they generate. \n",
    "\n",
    "The three metrics we used are\n",
    "\n",
    "1.   Accuracy score\n",
    "2.   Precision score\n",
    "3.   Recall score\n",
    "\n",
    "Since the dataset was uneven, accuracy is not as useful as the other two scores. We evaluated our models based on their precision and recall scores.\n",
    "\n",
    "\n",
    "\n"
   ]
  },
  {
   "cell_type": "markdown",
   "metadata": {
    "id": "RPpSNFZZnXAs"
   },
   "source": [
    "Naive Bayes model"
   ]
  },
  {
   "cell_type": "code",
   "execution_count": 15,
   "metadata": {
    "id": "V2zko1Dhg622"
   },
   "outputs": [
    {
     "name": "stdout",
     "output_type": "stream",
     "text": [
      "Accuracy score:  0.9794676188930368\n",
      "Precision score:  0.9831223628691983\n",
      "Recall score:  0.9936034115138592\n"
     ]
    },
    {
     "data": {
      "image/png": "[encoded data removed]",
      "text/plain": [
       "<Figure size 432x288 with 1 Axes>"
      ]
     },
     "metadata": {
      "needs_background": "light"
     },
     "output_type": "display_data"
    }
   ],
   "source": [
    "# naive bayes\n",
    "# https://towardsdatascience.com/naive-bayes-document-classification-in-python-e33ff50f937e\n",
    "\n",
    "# create labels\n",
    "\n",
    "joe_df = joe_tweets.to_frame()\n",
    "donald_df = donald_tweets.to_frame()\n",
    "donald_df = donald_df.rename(columns={\"content\": \"tweet\"})\n",
    "joe_df['label'] = 0\n",
    "donald_df['label'] = 1\n",
    "\n",
    "# combine into one dataframe\n",
    "\n",
    "tweets = [joe_df, donald_df]\n",
    "tweet_df = pd.concat(tweets)\n",
    "\n",
    "tweet_df = tweet_df[tweet_df['tweet'] != 0]\n",
    "tweet_df = tweet_df[tweet_df['tweet'] != 1]\n",
    "\n",
    "# split into train and test set\n",
    "X_train, X_test, y_train, y_test = train_test_split(tweet_df['tweet'], tweet_df['label'], random_state=1)\n",
    "\n",
    "# convert into count vector\n",
    "cv = CountVectorizer(strip_accents='ascii', token_pattern=u'(?ui)\\\\b\\\\w*[a-z]+\\\\w*\\\\b', lowercase=True, stop_words='english')\n",
    "X_train_cv = cv.fit_transform(X_train)\n",
    "X_test_cv = cv.transform(X_test)\n",
    "\n",
    "# fit model\n",
    "\n",
    "naive_bayes = MultinomialNB()\n",
    "naive_bayes.fit(X_train_cv, y_train)\n",
    "predictions = naive_bayes.predict(X_test_cv)\n",
    "\n",
    "# check scores \n",
    "\n",
    "print('Accuracy score: ', accuracy_score(y_test, predictions))\n",
    "print('Precision score: ', precision_score(y_test, predictions))\n",
    "print('Recall score: ', recall_score(y_test, predictions))\n",
    "\n",
    "# confusion matrix\n",
    "\n",
    "cm = confusion_matrix(y_test, predictions)\n",
    "sns.heatmap(cm, square=True, annot=True, cmap='RdBu', cbar=False,\n",
    "xticklabels=['joe', 'donald'], yticklabels=['joe', 'donald'])\n",
    "plt.xlabel('true label')\n",
    "plt.ylabel('predicted label')\n",
    "\n",
    "# investigating misses\n",
    "\n",
    "testing_predictions = []\n",
    "for i in range(len(X_test)):\n",
    "    if predictions[i] == 1:\n",
    "        testing_predictions.append('donald')\n",
    "    else:\n",
    "        testing_predictions.append('joe')\n",
    "check_df = pd.DataFrame({'actual_label': list(y_test), 'prediction': testing_predictions, 'abstract':list(X_test)})\n",
    "check_df.replace(to_replace=0, value='joe', inplace=True)\n",
    "check_df.replace(to_replace=1, value='donald', inplace=True)\n",
    "\n",
    "miss_df = check_df[check_df['actual_label'] != check_df['prediction']]\n",
    "\n",
    "miss_df.to_csv('miss_label.csv')"
   ]
  },
  {
   "cell_type": "markdown",
   "metadata": {
    "id": "Suf5_QVrnZrQ"
   },
   "source": [
    "K nearest neighbors model"
   ]
  },
  {
   "cell_type": "code",
   "execution_count": 16,
   "metadata": {
    "id": "erx85FijTRmQ"
   },
   "outputs": [
    {
     "name": "stdout",
     "output_type": "stream",
     "text": [
      "Accuracy score:  0.9433533517286155\n",
      "Precision score:  0.9405292114225832\n",
      "Recall score:  0.9984240289237044\n"
     ]
    },
    {
     "data": {
      "text/plain": [
       "Text(91.68, 0.5, 'predicted label')"
      ]
     },
     "execution_count": 16,
     "metadata": {},
     "output_type": "execute_result"
    },
    {
     "data": {
      "image/png": "[encoded data removed]",
      "text/plain": [
       "<Figure size 432x288 with 1 Axes>"
      ]
     },
     "metadata": {
      "needs_background": "light"
     },
     "output_type": "display_data"
    }
   ],
   "source": [
    "\n",
    "joe_df = joe_tweets.to_frame()\n",
    "donald_df = donald_tweets.to_frame()\n",
    "donald_df = donald_df.rename(columns={\"content\": \"tweet\"})\n",
    "joe_df['label'] = 0\n",
    "donald_df['label'] = 1\n",
    "\n",
    "# combine into one dataframe\n",
    "\n",
    "tweets = [joe_df, donald_df]\n",
    "tweet_df = pd.concat(tweets)\n",
    "\n",
    "tweet_df = tweet_df[tweet_df['tweet'] != 0]\n",
    "tweet_df = tweet_df[tweet_df['tweet'] != 1]\n",
    "\n",
    "# split into train and test set\n",
    "X_train, X_test, y_train, y_test = train_test_split(tweet_df['tweet'], tweet_df['label'], random_state=1)\n",
    "\n",
    "# convert into count vector\n",
    "cv = CountVectorizer(strip_accents='ascii', token_pattern=u'(?ui)\\\\b\\\\w*[a-z]+\\\\w*\\\\b', lowercase=True, stop_words='english')\n",
    "X_train_cv = cv.fit_transform(X_train)\n",
    "X_test_cv = cv.transform(X_test)\n",
    "\n",
    "# create K nearest neighbors model\n",
    "KNN = KNeighborsClassifier(n_neighbors=25)\n",
    "KNN.fit(X_train_cv, y_train)\n",
    "predictions = KNN.predict(X_test_cv)\n",
    "\n",
    "\n",
    "print('Accuracy score: ', accuracy_score(y_test, predictions))\n",
    "print('Precision score: ', precision_score(y_test, predictions))\n",
    "print('Recall score: ', recall_score(y_test, predictions))\n",
    "\n",
    "cm = confusion_matrix(y_test, predictions)\n",
    "sns.heatmap(cm, square=True, annot=True, cmap='RdBu', cbar=False,\n",
    "xticklabels=['joe', 'donald'], yticklabels=['joe', 'donald'])\n",
    "plt.xlabel('true label')\n",
    "plt.ylabel('predicted label')"
   ]
  },
  {
   "cell_type": "markdown",
   "metadata": {
    "id": "2i5hUpoDndro"
   },
   "source": [
    "Random forest model"
   ]
  },
  {
   "cell_type": "code",
   "execution_count": 17,
   "metadata": {
    "id": "dZmSCK_hXPkf"
   },
   "outputs": [
    {
     "name": "stdout",
     "output_type": "stream",
     "text": [
      "Accuracy score:  0.9784937510144457\n",
      "Precision score:  0.9775780682643428\n",
      "Recall score:  0.9983313247427459\n",
      "Important features:\n",
      "['chinese', 'war', 'w', 'syrians', 'syrian', 'http', 'ly', 'laughing', 'horrific', 'fl', 'victims', 'stop', 'smart', 'simple', 'donald', 'failed', 'america', 'trying', 'great', 'trumpgolf', 'respected', 'odyssey', 'trumpdoral', 'monster', 'redesign', 'today', 'fallen', 'years', 'vet', 'twitter']\n"
     ]
    },
    {
     "data": {
      "image/png": "[encoded data removed]",
      "text/plain": [
       "<Figure size 432x288 with 1 Axes>"
      ]
     },
     "metadata": {
      "needs_background": "light"
     },
     "output_type": "display_data"
    }
   ],
   "source": [
    "rfc = RandomForestClassifier()\n",
    "rfc.fit(X_train_cv, y_train)\n",
    "rfcpred = rfc.predict(X_test_cv)\n",
    "\n",
    "# confusion matrix\n",
    "\n",
    "rfcm = confusion_matrix(y_test, rfcpred)\n",
    "sns.heatmap(rfcm, square=True, annot=True, cmap='RdBu', cbar=False,\n",
    "xticklabels=['joe', 'donald'], yticklabels=['joe', 'donald'])\n",
    "plt.xlabel('true label')\n",
    "plt.ylabel('predicted label')\n",
    "\n",
    "print('Accuracy score: ', accuracy_score(y_test, rfcpred))\n",
    "print('Precision score: ', precision_score(y_test, rfcpred))\n",
    "print('Recall score: ', recall_score(y_test, rfcpred))\n",
    "\n",
    "# investigating misses\n",
    "\n",
    "rfc_test_pred = []\n",
    "for i in range(len(X_test)):\n",
    "    if rfcpred[i] == 1:\n",
    "        rfc_test_pred.append('donald')\n",
    "    else:\n",
    "        rfc_test_pred.append('joe')\n",
    "check_df = pd.DataFrame({'actual_label': list(y_test), 'prediction': rfc_test_pred, 'abstract':list(X_test)})\n",
    "check_df.replace(to_replace=0, value='joe', inplace=True)\n",
    "check_df.replace(to_replace=1, value='donald', inplace=True)\n",
    "\n",
    "rfc_miss_df = check_df[check_df['actual_label'] != check_df['prediction']]\n",
    "\n",
    "importances = list(rfc.feature_importances_)\n",
    "#print(len(importances))\n",
    "impf = [];\n",
    "voc = cv.vocabulary_\n",
    "for x in range(30):\n",
    "    m = importances.index(max(importances))\n",
    "    word = tuple(cv.vocabulary_.items())[x][0]\n",
    "    impf.append(word)\n",
    "    importances.remove(max(importances))\n",
    "    voc.pop(word)\n",
    "print(\"Important features:\")\n",
    "print(impf)"
   ]
  },
  {
   "cell_type": "markdown",
   "metadata": {
    "id": "481ezqCbn-sz"
   },
   "source": [
    "# Improving Current Models\n",
    "\n",
    "We want to see if we can improve our current model.\n",
    "\n",
    "We will first explore the idea of only using recent Tweets. This will narrow each candidate's goals and tweets to only recent events.\n"
   ]
  },
  {
   "cell_type": "markdown",
   "metadata": {
    "id": "fUZOqevhoHW6"
   },
   "source": [
    "Using more recent Tweet data"
   ]
  },
  {
   "cell_type": "code",
   "execution_count": 18,
   "metadata": {
    "id": "CIYCFLFoX3wh"
   },
   "outputs": [
    {
     "name": "stdout",
     "output_type": "stream",
     "text": [
      "Joe Tweet Count: 4775\n",
      "Donald Tweet Count: 10004\n"
     ]
    }
   ],
   "source": [
    "joe_recent_data = joe_data[joe_data['timestamp'] > '2018-00-00 00:00']\n",
    "donald_recent_data = donald_data[donald_data['date'] > '2018-00-00 00:00:00']\n",
    "\n",
    "joe_recent_tweets = joe_recent_data['tweet']\n",
    "donald_recent_tweets = donald_recent_data['content']\n",
    "\n",
    "print('Joe Tweet Count: ' + str(len(joe_recent_tweets)))\n",
    "print('Donald Tweet Count: ' + str(len(donald_recent_tweets)))\n"
   ]
  },
  {
   "cell_type": "code",
   "execution_count": 19,
   "metadata": {},
   "outputs": [
    {
     "name": "stdout",
     "output_type": "stream",
     "text": [
      "Accuracy score:  0.9807848443843031\n",
      "Precision score:  0.9854427820460978\n",
      "Recall score:  0.98584142394822\n"
     ]
    },
    {
     "data": {
      "text/plain": [
       "Text(91.68, 0.5, 'predicted label')"
      ]
     },
     "execution_count": 19,
     "metadata": {},
     "output_type": "execute_result"
    },
    {
     "data": {
      "image/png": "[encoded data removed]",
      "text/plain": [
       "<Figure size 432x288 with 1 Axes>"
      ]
     },
     "metadata": {
      "needs_background": "light"
     },
     "output_type": "display_data"
    }
   ],
   "source": [
    "# naive bayes model\n",
    "\n",
    "joe_df = joe_recent_tweets.to_frame()\n",
    "donald_df = donald_recent_tweets.to_frame()\n",
    "donald_df = donald_df.rename(columns={\"content\": \"tweet\"})\n",
    "joe_df['label'] = 0\n",
    "donald_df['label'] = 1\n",
    "\n",
    "# combine into one dataframe\n",
    "\n",
    "tweets = [joe_df, donald_df]\n",
    "tweet_df = pd.concat(tweets)\n",
    "\n",
    "tweet_df = tweet_df[tweet_df['tweet'] != 0]\n",
    "tweet_df = tweet_df[tweet_df['tweet'] != 1]\n",
    "\n",
    "# split into train and test set\n",
    "X_train, X_test, y_train, y_test = train_test_split(tweet_df['tweet'], tweet_df['label'], random_state=1)\n",
    "\n",
    "# convert into count vector\n",
    "cv = CountVectorizer(strip_accents='ascii', token_pattern=u'(?ui)\\\\b\\\\w*[a-z]+\\\\w*\\\\b', lowercase=True, stop_words='english')\n",
    "X_train_cv = cv.fit_transform(X_train)\n",
    "X_test_cv = cv.transform(X_test)\n",
    "\n",
    "# fit model\n",
    "\n",
    "naive_bayes = MultinomialNB()\n",
    "naive_bayes.fit(X_train_cv, y_train)\n",
    "predictions = naive_bayes.predict(X_test_cv)\n",
    "\n",
    "# check scores \n",
    "\n",
    "print('Accuracy score: ', accuracy_score(y_test, predictions))\n",
    "print('Precision score: ', precision_score(y_test, predictions))\n",
    "print('Recall score: ', recall_score(y_test, predictions))\n",
    "\n",
    "# confusion matrix\n",
    "\n",
    "cm = confusion_matrix(y_test, predictions)\n",
    "sns.heatmap(cm, square=True, annot=True, cmap='RdBu', cbar=False,\n",
    "xticklabels=['joe', 'donald'], yticklabels=['joe', 'donald'])\n",
    "plt.xlabel('true label')\n",
    "plt.ylabel('predicted label')"
   ]
  },
  {
   "cell_type": "markdown",
   "metadata": {},
   "source": [
    "As we see from the metrics, the model did not improve from the previous models. This may be due to a smaller testing set."
   ]
  }
 ],
 "metadata": {
  "colab": {
   "collapsed_sections": [],
   "name": "Untitled1.ipynb",
   "provenance": []
  },
  "kernelspec": {
   "display_name": "Python 3",
   "language": "python",
   "name": "python3"
  },
  "language_info": {
   "codemirror_mode": {
    "name": "ipython",
    "version": 3
   },
   "file_extension": ".py",
   "mimetype": "text/x-python",
   "name": "python",
   "nbconvert_exporter": "python",
   "pygments_lexer": "ipython3",
   "version": "3.8.2"
  }
 },
 "nbformat": 4,
 "nbformat_minor": 1
}
